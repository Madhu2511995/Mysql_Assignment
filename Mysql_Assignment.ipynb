{
 "cells": [
  {
   "cell_type": "markdown",
   "id": "f3f625f5-fc80-4dce-a831-274e04956bea",
   "metadata": {},
   "source": [
    "#### Q1. What is a database? Differentiate between SQL and NoSQL databases.\n",
    "\n",
    "#### Q2. What is DDL? Explain why CREATE, DROP, ALTER, and TRUNCATE are used with an example.\n",
    "\n",
    "#### Q3. What is DML? Explain INSERT, UPDATE, and DELETE with an example.\n",
    "\n",
    "#### Q4. What is DQL? Explain SELECT with an example.\n",
    "\n",
    "#### Q5. Explain Primary Key and Foreign Key.\n",
    "\n",
    "#### Q6. Write a python code to connect MySQL to python. Explain the cursor() and execute() method.\n",
    "\n",
    "#### Q7. Give the order of execution of SQL clauses in an SQL query."
   ]
  },
  {
   "cell_type": "markdown",
   "id": "af69e5c6-c7a3-48e2-b31d-00c4b3816363",
   "metadata": {},
   "source": [
    "## Answers"
   ]
  },
  {
   "cell_type": "markdown",
   "id": "f364dc41-b774-4fa4-a9a5-93f010c28fc2",
   "metadata": {},
   "source": [
    "### Q1. What is a database? Differentiate between SQL and NoSQL databases."
   ]
  },
  {
   "cell_type": "markdown",
   "id": "38ea2dfa-1477-493f-af10-1200e1a11207",
   "metadata": {},
   "source": [
    "Database :===> A database is a structured collection of data organized and stored in a computer system.\n",
    "It allows users to store, manage, and retrieve data efficiently."
   ]
  },
  {
   "cell_type": "markdown",
   "id": "5db9244c-7546-4c1a-afec-fdbae3089d26",
   "metadata": {},
   "source": [
    "SQL (Structured Query Language) Databases:\n",
    "----------------------------------------------\n",
    "1. This database is structure base database. Data are stored in predefined schemas and table.\n",
    "2. These databases are not suited for hierarchical data storage.\n",
    "3. These databases are best suited for complex queries\n",
    "4. Vertically Scalable.\n",
    "5. Follows ACID property.\n",
    "\n",
    "   Examples: MySQL, Oracle, MS-SQL Server, etc\n",
    "\n",
    "\n",
    "\n",
    "\n"
   ]
  },
  {
   "cell_type": "markdown",
   "id": "aae68aef-4ad1-42dc-bd7d-9fc1625ac1fe",
   "metadata": {},
   "source": [
    "NoSQL (Not Only SQL) Databases:\n",
    "-------------------------------------\n",
    "1. This database is not a structure basedata base and there is no concept of predefined schemas.\n",
    "2. These databases are best suited for hierarchical data storage.\n",
    "3. These databases are not so good for complex queries.\n",
    "4. Horizontally scalable.\n",
    "5. Follows CAP(consistency, availability, partition tolerance).\n",
    "   \n",
    "   Examples: MongoDB, GraphQL, Cassandra, etc\n",
    "\n",
    "\n",
    "\n",
    "\n"
   ]
  },
  {
   "cell_type": "markdown",
   "id": "0b7acd4a-c5be-422a-a765-bd8b37a79af5",
   "metadata": {},
   "source": [
    "### Q2. What is DDL? Explain why CREATE, DROP, ALTER, and TRUNCATE are used with an example."
   ]
  },
  {
   "cell_type": "markdown",
   "id": "91b47450-a21f-47ba-a033-2343e2457d47",
   "metadata": {},
   "source": [
    "DDL :===> This command are used to  defining and modifying the structure of a database, \n",
    "including tables, views, indexes, and other database objects. DDL statements are used to create, modify, \n",
    "or delete these objects in the database."
   ]
  },
  {
   "cell_type": "markdown",
   "id": "c79acfb2-a5fc-477b-b93b-fb4848180f16",
   "metadata": {},
   "source": [
    "Create :===> CREATE statement is used to create a new database object, such as a table, view, index, or schema. \n",
    "\n",
    "\n",
    "CREATE TABLE Customers (\n",
    "    ID INT PRIMARY KEY,\n",
    "    Name VARCHAR(100),\n",
    "    Email VARCHAR(255)\n",
    ");\n",
    "\n"
   ]
  },
  {
   "cell_type": "markdown",
   "id": "56f1cb1d-3a7b-4df3-8598-1609d0e07610",
   "metadata": {},
   "source": [
    "DROP :===> The DROP statement is used to delete an existing database object. \n",
    "It permanently removes the object and its associated data from the database.\n",
    "\n",
    "DROP TABLE Customers;"
   ]
  },
  {
   "cell_type": "markdown",
   "id": "dd1fab79-e717-402f-9054-e4fdeec18038",
   "metadata": {},
   "source": [
    "ALTER :===> The ALTER statement is used to modify the structure of an existing database object. It allows you to add, modify,\n",
    "or delete columns, constraints, or other properties of the object.\n",
    "\n",
    "ALTER TABLE Customers\n",
    "ADD Address VARCHAR(200);"
   ]
  },
  {
   "cell_type": "markdown",
   "id": "08e91433-6637-478c-a097-cec0d21173a4",
   "metadata": {},
   "source": [
    "TRUNCATE:===> The TRUNCATE statement is used to remove all rows from a table, while keeping the table structure intact. Unlike the DROP statement, \n",
    "TRUNCATE preserves the table itself, but deletes all the data within it. \n",
    "\n",
    "TRUNCATE TABLE Customers;\n"
   ]
  },
  {
   "cell_type": "code",
   "execution_count": null,
   "id": "308bab28-5a13-46ce-82f8-000716f3c4de",
   "metadata": {},
   "outputs": [],
   "source": []
  },
  {
   "cell_type": "markdown",
   "id": "04f6adf7-4bdb-4d28-9733-c67b14ce1264",
   "metadata": {},
   "source": [
    "### Q3. What is DML? Explain INSERT, UPDATE, and DELETE with an example.¶"
   ]
  },
  {
   "cell_type": "markdown",
   "id": "8ccbcb50-8bbe-4644-98ea-aa08833714de",
   "metadata": {},
   "source": [
    "DML : ===> DML stands for Data Manipulation Language. \n",
    "It is used to perform operations on data within a database. \n",
    "DML consists of three main commands: INSERT, UPDATE, and DELETE. "
   ]
  },
  {
   "cell_type": "markdown",
   "id": "e4c8bcc3-5fba-4329-ba16-cb85d33d2845",
   "metadata": {},
   "source": [
    "INSERT: ===> The INSERT command is used to add new records or rows into a database table. It allows you to specify the values to be inserted into each column of the table. "
   ]
  },
  {
   "cell_type": "markdown",
   "id": "9045c7ec-bb64-4fbd-a60d-42f32e85583c",
   "metadata": {},
   "source": [
    "Example-\n",
    "\n",
    "INSERT INTO Employees (EmployeeID, FirstName, LastName, Department)\n",
    "VALUES (101, 'Madhu', 'Prajapati', 'Sales');"
   ]
  },
  {
   "cell_type": "markdown",
   "id": "7e03778a-840d-477e-8d08-24a5cc6c7586",
   "metadata": {},
   "source": [
    "UPDATE: ===>  The UPDATE command is used to modify existing records in a database table. It allows you to change the values of one or more columns in one or more rows."
   ]
  },
  {
   "cell_type": "markdown",
   "id": "047604a7-3b4c-438b-9710-79e2f177212c",
   "metadata": {},
   "source": [
    "Example-\n",
    "\n",
    "UPDATE Employees\n",
    "SET Department = 'Marketing'\n",
    "WHERE EmployeeID = 101;\n"
   ]
  },
  {
   "cell_type": "markdown",
   "id": "13e6dd4c-ac82-4472-9f0a-58b7e2743190",
   "metadata": {},
   "source": [
    "DELETE: ===> The DELETE command is used to remove records or rows from a database table. It allows you to specify a condition to delete specific rows or delete all rows from a table."
   ]
  },
  {
   "cell_type": "markdown",
   "id": "7f23f960-f482-4c8f-9ac4-df7c00faf4f0",
   "metadata": {},
   "source": [
    "Example--\n",
    "\n",
    "DELETE FROM Employees\n",
    "WHERE EmployeeID = 101;\n"
   ]
  },
  {
   "cell_type": "code",
   "execution_count": null,
   "id": "de725580-e0f5-4ce0-9f09-fa8705355a14",
   "metadata": {},
   "outputs": [],
   "source": []
  },
  {
   "cell_type": "markdown",
   "id": "daf1daa9-1cd5-4ace-8398-038a0016623b",
   "metadata": {},
   "source": [
    "### Q4. What is DQL? Explain SELECT with an example."
   ]
  },
  {
   "cell_type": "markdown",
   "id": "a979f59f-1da9-48aa-8c76-4fb80070f716",
   "metadata": {},
   "source": [
    "DQL: ===> DQL stands for Data Query Language. It is used to retrieve data from a database. DQL primarily consists of the SELECT command,\n",
    "which allows you to query and retrieve specific data from one or more database tables."
   ]
  },
  {
   "cell_type": "markdown",
   "id": "6b0b19a3-2ca0-445a-af78-bb82a5740059",
   "metadata": {},
   "source": [
    "Example--\n",
    "\n",
    "Select * from Employee;\n",
    "\n",
    "select empNo,empName,salary from employee where empNo=101;"
   ]
  },
  {
   "cell_type": "markdown",
   "id": "a31e36b3-61b9-4f34-bdec-9c1479e3c61e",
   "metadata": {},
   "source": [
    "### Q5. Explain Primary Key and Foreign Key"
   ]
  },
  {
   "cell_type": "markdown",
   "id": "00fb063a-2a10-4c35-8df7-055bcf4a97d4",
   "metadata": {},
   "source": [
    "Primary Key:\n",
    "---------------    \n",
    "A primary key is a column or a set of columns in a database table that uniquely identifies each row or record in that table. "
   ]
  },
  {
   "cell_type": "markdown",
   "id": "78ea065b-e6bc-42aa-b2d3-8e78579ef29a",
   "metadata": {},
   "source": [
    "Foreign Key:\n",
    "-------------\n",
    "A foreign key is a column or a set of columns in a database table that establishes a link or relationship between two tables."
   ]
  },
  {
   "cell_type": "markdown",
   "id": "369cd21e-564d-4834-94dd-6d0ddde64765",
   "metadata": {},
   "source": [
    "### Q6. Write a python code to connect MySQL to python. Explain the cursor() and execute() method."
   ]
  },
  {
   "cell_type": "markdown",
   "id": "81a331d0-8df7-4573-b7f8-3311f1e538e1",
   "metadata": {},
   "source": [
    "cursor() :===> The cursor() method creates a cursor object, \n",
    "which allows you to execute SQL queries and fetch results from the database."
   ]
  },
  {
   "cell_type": "markdown",
   "id": "0ffb286e-dd96-412b-b578-1a6eb7abe182",
   "metadata": {},
   "source": [
    "execute():===> The execute() method is used to execute an SQL query.\n",
    "It takes the SQL query as a parameter and performs the query execution on the database. "
   ]
  },
  {
   "cell_type": "code",
   "execution_count": null,
   "id": "9449474d-5c01-4501-a47f-9e20b5e50b18",
   "metadata": {},
   "outputs": [],
   "source": [
    "import mysql.connector\n",
    "mydb = mysql.connector.connect(\n",
    "  host=\"localhost\",\n",
    "  user=\"abc\",\n",
    "  password=\"password\"\n",
    ")\n",
    "mycursor = mydb.cursor()\n",
    "\n",
    "mycursor.execute(\"create table if not exists test1.Test_table(student_id int, Name varchar(50), Age int)\")"
   ]
  },
  {
   "cell_type": "code",
   "execution_count": null,
   "id": "92f88dcd-0f0c-49f4-abbd-4f05ab23d772",
   "metadata": {},
   "outputs": [],
   "source": []
  },
  {
   "cell_type": "markdown",
   "id": "5bfbf8ac-1f60-4d02-8e55-668a79b230f7",
   "metadata": {},
   "source": [
    "### Q7. Give the order of execution of SQL clauses in an SQL query."
   ]
  },
  {
   "cell_type": "markdown",
   "id": "ad0eea47-b8b7-48f5-82e9-cfe9e7435b01",
   "metadata": {},
   "source": [
    "1. FROM\n",
    "2. WHERE\n",
    "3. GROUP BY\n",
    "4. HAVING\n",
    "5. SELECT\n",
    "6. DISTINCT\n",
    "7. ORDER BY\n",
    "9. LIMIT/OFFSET"
   ]
  },
  {
   "cell_type": "code",
   "execution_count": null,
   "id": "3f783534-bab9-4b51-a74d-00e8e591cf24",
   "metadata": {},
   "outputs": [],
   "source": []
  },
  {
   "cell_type": "code",
   "execution_count": null,
   "id": "6774fdad-7a5d-4e5d-a6ee-162d906e07b9",
   "metadata": {},
   "outputs": [],
   "source": []
  },
  {
   "cell_type": "code",
   "execution_count": null,
   "id": "7952f604-623e-4e6d-99c0-6c4562642267",
   "metadata": {},
   "outputs": [],
   "source": []
  },
  {
   "cell_type": "code",
   "execution_count": null,
   "id": "86bb296c-f023-4e24-9b9d-bb25ccc7ee3e",
   "metadata": {},
   "outputs": [],
   "source": []
  },
  {
   "cell_type": "code",
   "execution_count": null,
   "id": "5749de1a-f9cf-40ea-9ffe-f6feeb71ce9f",
   "metadata": {},
   "outputs": [],
   "source": []
  },
  {
   "cell_type": "code",
   "execution_count": null,
   "id": "9b246cff-acef-4bd2-a2ef-4f0077b8dad5",
   "metadata": {},
   "outputs": [],
   "source": []
  },
  {
   "cell_type": "code",
   "execution_count": null,
   "id": "bd4a564e-c145-476a-8407-301775107386",
   "metadata": {},
   "outputs": [],
   "source": []
  },
  {
   "cell_type": "code",
   "execution_count": null,
   "id": "e90fa21f-f1dd-4ab7-9a7f-584e33a073b6",
   "metadata": {},
   "outputs": [],
   "source": []
  },
  {
   "cell_type": "code",
   "execution_count": null,
   "id": "d2c2df31-4595-4005-819d-5e5d06b01f4d",
   "metadata": {},
   "outputs": [],
   "source": []
  },
  {
   "cell_type": "code",
   "execution_count": null,
   "id": "2dbd4c51-2c39-4eae-be0a-2d46ba21ba05",
   "metadata": {},
   "outputs": [],
   "source": []
  },
  {
   "cell_type": "code",
   "execution_count": null,
   "id": "3a4780a3-7cd2-4c4c-bcb1-1f816606f100",
   "metadata": {},
   "outputs": [],
   "source": []
  },
  {
   "cell_type": "code",
   "execution_count": null,
   "id": "517f9c77-2da2-4734-9a02-900097411501",
   "metadata": {},
   "outputs": [],
   "source": []
  }
 ],
 "metadata": {
  "kernelspec": {
   "display_name": "Python 3 (ipykernel)",
   "language": "python",
   "name": "python3"
  },
  "language_info": {
   "codemirror_mode": {
    "name": "ipython",
    "version": 3
   },
   "file_extension": ".py",
   "mimetype": "text/x-python",
   "name": "python",
   "nbconvert_exporter": "python",
   "pygments_lexer": "ipython3",
   "version": "3.10.8"
  }
 },
 "nbformat": 4,
 "nbformat_minor": 5
}
